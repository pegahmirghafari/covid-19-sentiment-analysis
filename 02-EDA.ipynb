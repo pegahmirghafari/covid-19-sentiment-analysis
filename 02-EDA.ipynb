{
 "cells": [
  {
   "cell_type": "markdown",
   "metadata": {},
   "source": [
    "### importing libraries"
   ]
  },
  {
   "cell_type": "code",
   "execution_count": 1,
   "metadata": {},
   "outputs": [],
   "source": [
    "import itertools\n",
    "import numpy as np\n",
    "import pandas as pd\n",
    "import seaborn as sns\n",
    "import matplotlib.pyplot as plt\n",
    "import nltk\n",
    "\n",
    "from nltk.corpus import stopwords\n",
    "from nltk.stem import WordNetLemmatizer\n",
    "from nltk.stem.porter import PorterStemmer\n",
    "from nltk.sentiment.vader import SentimentIntensityAnalyzer\n",
    "from nltk.tokenize import sent_tokenize, word_tokenize, RegexpTokenizer\n",
    "\n",
    "from sklearn import metrics\n",
    "from sklearn.decomposition import TruncatedSVD\n",
    "from sklearn.feature_extraction.text import CountVectorizer, TfidfVectorizer, HashingVectorizer"
   ]
  },
  {
   "cell_type": "code",
   "execution_count": 2,
   "metadata": {},
   "outputs": [],
   "source": [
    "df = pd.read_csv(\"./data/combined_with_who.csv\")"
   ]
  },
  {
   "cell_type": "code",
   "execution_count": 3,
   "metadata": {},
   "outputs": [
    {
     "data": {
      "text/html": [
       "<div>\n",
       "<style scoped>\n",
       "    .dataframe tbody tr th:only-of-type {\n",
       "        vertical-align: middle;\n",
       "    }\n",
       "\n",
       "    .dataframe tbody tr th {\n",
       "        vertical-align: top;\n",
       "    }\n",
       "\n",
       "    .dataframe thead th {\n",
       "        text-align: right;\n",
       "    }\n",
       "</style>\n",
       "<table border=\"1\" class=\"dataframe\">\n",
       "  <thead>\n",
       "    <tr style=\"text-align: right;\">\n",
       "      <th></th>\n",
       "      <th>label</th>\n",
       "      <th>text</th>\n",
       "    </tr>\n",
       "  </thead>\n",
       "  <tbody>\n",
       "    <tr>\n",
       "      <th>0</th>\n",
       "      <td>true</td>\n",
       "      <td>US coronavirus vaccine trial on hold after UK ...</td>\n",
       "    </tr>\n",
       "    <tr>\n",
       "      <th>1</th>\n",
       "      <td>true</td>\n",
       "      <td>Penn State Reports 320 Cases Of Coronavirus On...</td>\n",
       "    </tr>\n",
       "    <tr>\n",
       "      <th>2</th>\n",
       "      <td>true</td>\n",
       "      <td>Chinese mainland reports 10 new COVID-19 cases...</td>\n",
       "    </tr>\n",
       "    <tr>\n",
       "      <th>3</th>\n",
       "      <td>true</td>\n",
       "      <td>Mask resistance during a pandemic isn't new – ...</td>\n",
       "    </tr>\n",
       "    <tr>\n",
       "      <th>4</th>\n",
       "      <td>true</td>\n",
       "      <td>U.S. adults experienced increased mental healt...</td>\n",
       "    </tr>\n",
       "  </tbody>\n",
       "</table>\n",
       "</div>"
      ],
      "text/plain": [
       "  label                                               text\n",
       "0  true  US coronavirus vaccine trial on hold after UK ...\n",
       "1  true  Penn State Reports 320 Cases Of Coronavirus On...\n",
       "2  true  Chinese mainland reports 10 new COVID-19 cases...\n",
       "3  true  Mask resistance during a pandemic isn't new – ...\n",
       "4  true  U.S. adults experienced increased mental healt..."
      ]
     },
     "execution_count": 3,
     "metadata": {},
     "output_type": "execute_result"
    }
   ],
   "source": [
    "df.head()"
   ]
  },
  {
   "cell_type": "code",
   "execution_count": 4,
   "metadata": {},
   "outputs": [
    {
     "data": {
      "text/plain": [
       "(9974, 2)"
      ]
     },
     "execution_count": 4,
     "metadata": {},
     "output_type": "execute_result"
    }
   ],
   "source": [
    "df.shape"
   ]
  },
  {
   "cell_type": "code",
   "execution_count": 5,
   "metadata": {},
   "outputs": [
    {
     "data": {
      "text/plain": [
       "label    0\n",
       "text     0\n",
       "dtype: int64"
      ]
     },
     "execution_count": 5,
     "metadata": {},
     "output_type": "execute_result"
    }
   ],
   "source": [
    "df.isnull().sum()"
   ]
  },
  {
   "cell_type": "code",
   "execution_count": 6,
   "metadata": {},
   "outputs": [
    {
     "data": {
      "text/plain": [
       "label    object\n",
       "text     object\n",
       "dtype: object"
      ]
     },
     "execution_count": 6,
     "metadata": {},
     "output_type": "execute_result"
    }
   ],
   "source": [
    "df.dtypes"
   ]
  },
  {
   "cell_type": "code",
   "execution_count": 7,
   "metadata": {},
   "outputs": [
    {
     "data": {
      "text/plain": [
       "false         6315\n",
       "true          2500\n",
       "misleading    1159\n",
       "Name: label, dtype: int64"
      ]
     },
     "execution_count": 7,
     "metadata": {},
     "output_type": "execute_result"
    }
   ],
   "source": [
    "df['label'].value_counts()"
   ]
  },
  {
   "cell_type": "code",
   "execution_count": 8,
   "metadata": {},
   "outputs": [
    {
     "data": {
      "text/html": [
       "<div>\n",
       "<style scoped>\n",
       "    .dataframe tbody tr th:only-of-type {\n",
       "        vertical-align: middle;\n",
       "    }\n",
       "\n",
       "    .dataframe tbody tr th {\n",
       "        vertical-align: top;\n",
       "    }\n",
       "\n",
       "    .dataframe thead th {\n",
       "        text-align: right;\n",
       "    }\n",
       "</style>\n",
       "<table border=\"1\" class=\"dataframe\">\n",
       "  <thead>\n",
       "    <tr style=\"text-align: right;\">\n",
       "      <th></th>\n",
       "      <th>label</th>\n",
       "      <th>text</th>\n",
       "    </tr>\n",
       "  </thead>\n",
       "  <tbody>\n",
       "    <tr>\n",
       "      <th>count</th>\n",
       "      <td>9974</td>\n",
       "      <td>9974</td>\n",
       "    </tr>\n",
       "    <tr>\n",
       "      <th>unique</th>\n",
       "      <td>3</td>\n",
       "      <td>9974</td>\n",
       "    </tr>\n",
       "    <tr>\n",
       "      <th>top</th>\n",
       "      <td>false</td>\n",
       "      <td>Photo of an Indonesian doctor, Hideo Ali, loo...</td>\n",
       "    </tr>\n",
       "    <tr>\n",
       "      <th>freq</th>\n",
       "      <td>6315</td>\n",
       "      <td>1</td>\n",
       "    </tr>\n",
       "  </tbody>\n",
       "</table>\n",
       "</div>"
      ],
      "text/plain": [
       "        label                                               text\n",
       "count    9974                                               9974\n",
       "unique      3                                               9974\n",
       "top     false   Photo of an Indonesian doctor, Hideo Ali, loo...\n",
       "freq     6315                                                  1"
      ]
     },
     "execution_count": 8,
     "metadata": {},
     "output_type": "execute_result"
    }
   ],
   "source": [
    "df.describe()"
   ]
  },
  {
   "cell_type": "markdown",
   "metadata": {},
   "source": [
    "taking a look at what are the most used words"
   ]
  },
  {
   "cell_type": "code",
   "execution_count": 9,
   "metadata": {},
   "outputs": [
    {
     "name": "stdout",
     "output_type": "stream",
     "text": [
      "(9974, 13265)\n"
     ]
    },
    {
     "data": {
      "text/plain": [
       "coronavirus    3680\n",
       "covid          3306\n",
       "19             3102\n",
       "people          863\n",
       "video           823\n",
       "new             683\n",
       "shows           602\n",
       "pandemic        570\n",
       "lockdown        520\n",
       "cases           509\n",
       "vaccine         504\n",
       "india           469\n",
       "china           464\n",
       "government      413\n",
       "virus           404\n",
       "says            400\n",
       "facebook        397\n",
       "president       360\n",
       "health          355\n",
       "novel           353\n",
       "dtype: int64"
      ]
     },
     "execution_count": 9,
     "metadata": {},
     "output_type": "execute_result"
    }
   ],
   "source": [
    "cv = CountVectorizer(stop_words='english')\n",
    "cv.fit(df['text'])\n",
    "\n",
    "text_cv = cv.transform(df['text'])\n",
    "text_df = pd.DataFrame(text_cv.todense(), columns=cv.get_feature_names())\n",
    "\n",
    "print(text_df.shape)\n",
    "text_df.sum().sort_values(ascending=False).head(20)"
   ]
  },
  {
   "cell_type": "code",
   "execution_count": 10,
   "metadata": {},
   "outputs": [
    {
     "data": {
      "image/png": "[encoded data removed]",
      "text/plain": [
       "<Figure size 288x432 with 1 Axes>"
      ]
     },
     "metadata": {
      "needs_background": "light"
     },
     "output_type": "display_data"
    }
   ],
   "source": [
    "plt.figure(figsize=(4,6))\n",
    "text_df.sum().sort_values(ascending=False).head(30).plot(kind='barh',color= 'red')\n",
    "plt.title('Frequency of words in headlines')\n",
    "plt.ylabel('Words')\n",
    "plt.xlabel('Frequency')\n",
    "plt.savefig(\"./assets/word-freq-in-headlines.png\");"
   ]
  },
  {
   "cell_type": "markdown",
   "metadata": {},
   "source": [
    "Waht about using regex tokenizer?"
   ]
  },
  {
   "cell_type": "code",
   "execution_count": 15,
   "metadata": {},
   "outputs": [
    {
     "data": {
      "image/png": "[encoded data removed]",
      "text/plain": [
       "<Figure size 288x432 with 1 Axes>"
      ]
     },
     "metadata": {
      "needs_background": "light"
     },
     "output_type": "display_data"
    }
   ],
   "source": [
    "tokenizer = RegexpTokenizer(r'\\w+')\n",
    "\n",
    "hold_list = []\n",
    "for words in df['text']:\n",
    "    sing_word = tokenizer.tokenize(words.lower())\n",
    "    hold_list.append(sing_word)\n",
    "\n",
    "single_list = [i for token in hold_list for i in token]\n",
    "\n",
    "stopless_list = [token for token in single_list if token not in stopwords.words('english')]\n",
    "\n",
    "\n",
    "plt.figure(figsize=(4,6))\n",
    "word_comp = pd.DataFrame(stopless_list)\n",
    "word_comp.rename(columns = {0 : 'words'}, inplace=True)\n",
    "word_comp['words'].value_counts().head(30).plot(kind='barh', color= 'red')\n",
    "plt.title('Frequency of words in headlines')\n",
    "plt.ylabel('Words')\n",
    "plt.xlabel('Frequency')\n",
    "plt.savefig(\"./assets/word-freq-in-headlines-reg-tok.png\");"
   ]
  },
  {
   "cell_type": "markdown",
   "metadata": {},
   "source": [
    "Same as above; only exclusively for true target"
   ]
  },
  {
   "cell_type": "code",
   "execution_count": 16,
   "metadata": {},
   "outputs": [
    {
     "data": {
      "image/png": "[encoded data removed]",
      "text/plain": [
       "<Figure size 288x432 with 1 Axes>"
      ]
     },
     "metadata": {
      "needs_background": "light"
     },
     "output_type": "display_data"
    }
   ],
   "source": [
    "true_df = df[df['label'] == 'true']\n",
    "\n",
    "hold_list = []\n",
    "for words in true_df['text']:\n",
    "    sing_word = tokenizer.tokenize(words.lower())\n",
    "    hold_list.append(sing_word)\n",
    "\n",
    "single_list = [i for token in hold_list for i in token]\n",
    "\n",
    "stopless_list = [token for token in single_list if token not in stopwords.words('english')]\n",
    "\n",
    "plt.figure(figsize=(4,6))\n",
    "word_comp = pd.DataFrame(stopless_list)\n",
    "word_comp.rename(columns = {0 : 'words'}, inplace=True)\n",
    "word_comp['words'].value_counts().head(30).plot(kind='barh', color= 'red')\n",
    "plt.title('Frequency of words in true headlines')\n",
    "plt.ylabel('Words')\n",
    "plt.xlabel('Frequency')\n",
    "plt.savefig(\"./assets/word-freq-in-true-headlines-regtok.png\");"
   ]
  },
  {
   "cell_type": "markdown",
   "metadata": {},
   "source": [
    "## let's do a Sentiment Analysis using a list of words we created"
   ]
  },
  {
   "cell_type": "code",
   "execution_count": 17,
   "metadata": {},
   "outputs": [],
   "source": [
    "positive_words = ['brave','great', 'improve',\n",
    "                  'amazing','decrease','strong','safe', 'clean',\n",
    "                  'happy','love', 'enjoy','accomplish','achieve',\n",
    "                  'good', 'negative', 'cure', 'support','effective','save', 'open']\n",
    "negative_words = ['infected','violence','terrible','worse','death','fake', 'illegal',\n",
    "                  'destroy', 'aggresive','enemy','crash',\n",
    "                  'bad','false','rude','disappointed','positive','crisis','increase']"
   ]
  },
  {
   "cell_type": "code",
   "execution_count": 18,
   "metadata": {},
   "outputs": [],
   "source": [
    "def pos_sentiment(text):\n",
    "    tokenizer = RegexpTokenizer(r'\\w+')\n",
    "    tokens = tokenizer.tokenize(text.lower())\n",
    "    p_stemmer = PorterStemmer()\n",
    "    stemmed_words = [p_stemmer.stem(word) for word in tokens]\n",
    "    positive_stems = [p_stemmer.stem(word) for word in positive_words]\n",
    "    return sum([1 for i in stemmed_words if i in positive_stems])/ len(stemmed_words)"
   ]
  },
  {
   "cell_type": "code",
   "execution_count": 19,
   "metadata": {},
   "outputs": [],
   "source": [
    "def neg_sentiment(text):\n",
    "    tokenizer = RegexpTokenizer(r'\\w+')\n",
    "    tokens = tokenizer.tokenize(text.lower())\n",
    "    p_stemmer = PorterStemmer()\n",
    "    stemmed_words = [p_stemmer.stem(word) for word in tokens]\n",
    "    negative_stems = [p_stemmer.stem(word) for word in negative_words]\n",
    "    return sum([1 for i in stemmed_words if i in negative_stems])/ len(stemmed_words)"
   ]
  },
  {
   "cell_type": "code",
   "execution_count": 20,
   "metadata": {},
   "outputs": [],
   "source": [
    "pos = []\n",
    "neg = []\n",
    "for post in df['text']:\n",
    "    pos_scores = pos_sentiment(post)\n",
    "    neg_scores = neg_sentiment(post)\n",
    "    pos.append(pos_scores)\n",
    "    neg.append(neg_scores)"
   ]
  },
  {
   "cell_type": "code",
   "execution_count": 21,
   "metadata": {},
   "outputs": [],
   "source": [
    "sentiment = pd.DataFrame({'pos': pos, 'neg': neg})"
   ]
  },
  {
   "cell_type": "code",
   "execution_count": 22,
   "metadata": {},
   "outputs": [],
   "source": [
    "sentiment_df = pd.concat([df, sentiment], axis=1)"
   ]
  },
  {
   "cell_type": "code",
   "execution_count": 24,
   "metadata": {},
   "outputs": [
    {
     "data": {
      "image/png": "[encoded data removed]",
      "text/plain": [
       "<Figure size 432x288 with 1 Axes>"
      ]
     },
     "metadata": {
      "needs_background": "light"
     },
     "output_type": "display_data"
    }
   ],
   "source": [
    "sentiment_df.groupby('label').mean()[['pos', 'neg']].plot(kind = 'barh', color=('pink','red'))\n",
    "plt.title('Average Positive and Negative Scores (costume word list)')\n",
    "plt.savefig(\"./assets/avg-pos-neg-cost-list.png\");"
   ]
  },
  {
   "cell_type": "markdown",
   "metadata": {},
   "source": [
    "true posts, seem to be very negative, and have the least possitive words, which means when it comes to pandemics, we obvisly are not haveing a grand ol' time"
   ]
  },
  {
   "cell_type": "markdown",
   "metadata": {},
   "source": [
    "## let's take a look at a Sia- Polarities with VADER"
   ]
  },
  {
   "cell_type": "code",
   "execution_count": 25,
   "metadata": {},
   "outputs": [
    {
     "data": {
      "text/html": [
       "<div>\n",
       "<style scoped>\n",
       "    .dataframe tbody tr th:only-of-type {\n",
       "        vertical-align: middle;\n",
       "    }\n",
       "\n",
       "    .dataframe tbody tr th {\n",
       "        vertical-align: top;\n",
       "    }\n",
       "\n",
       "    .dataframe thead th {\n",
       "        text-align: right;\n",
       "    }\n",
       "</style>\n",
       "<table border=\"1\" class=\"dataframe\">\n",
       "  <thead>\n",
       "    <tr style=\"text-align: right;\">\n",
       "      <th></th>\n",
       "      <th>neg</th>\n",
       "      <th>neu</th>\n",
       "      <th>pos</th>\n",
       "      <th>compound</th>\n",
       "    </tr>\n",
       "  </thead>\n",
       "  <tbody>\n",
       "    <tr>\n",
       "      <th>count</th>\n",
       "      <td>9974.000000</td>\n",
       "      <td>9974.000000</td>\n",
       "      <td>9974.000000</td>\n",
       "      <td>9974.000000</td>\n",
       "    </tr>\n",
       "    <tr>\n",
       "      <th>mean</th>\n",
       "      <td>0.082997</td>\n",
       "      <td>0.858382</td>\n",
       "      <td>0.058518</td>\n",
       "      <td>-0.061524</td>\n",
       "    </tr>\n",
       "    <tr>\n",
       "      <th>std</th>\n",
       "      <td>0.121890</td>\n",
       "      <td>0.144465</td>\n",
       "      <td>0.099296</td>\n",
       "      <td>0.364053</td>\n",
       "    </tr>\n",
       "    <tr>\n",
       "      <th>min</th>\n",
       "      <td>0.000000</td>\n",
       "      <td>0.000000</td>\n",
       "      <td>0.000000</td>\n",
       "      <td>-0.952300</td>\n",
       "    </tr>\n",
       "    <tr>\n",
       "      <th>25%</th>\n",
       "      <td>0.000000</td>\n",
       "      <td>0.760000</td>\n",
       "      <td>0.000000</td>\n",
       "      <td>-0.318200</td>\n",
       "    </tr>\n",
       "    <tr>\n",
       "      <th>50%</th>\n",
       "      <td>0.000000</td>\n",
       "      <td>0.872000</td>\n",
       "      <td>0.000000</td>\n",
       "      <td>0.000000</td>\n",
       "    </tr>\n",
       "    <tr>\n",
       "      <th>75%</th>\n",
       "      <td>0.158000</td>\n",
       "      <td>1.000000</td>\n",
       "      <td>0.105000</td>\n",
       "      <td>0.025800</td>\n",
       "    </tr>\n",
       "    <tr>\n",
       "      <th>max</th>\n",
       "      <td>0.744000</td>\n",
       "      <td>1.000000</td>\n",
       "      <td>0.778000</td>\n",
       "      <td>0.940300</td>\n",
       "    </tr>\n",
       "  </tbody>\n",
       "</table>\n",
       "</div>"
      ],
      "text/plain": [
       "               neg          neu          pos     compound\n",
       "count  9974.000000  9974.000000  9974.000000  9974.000000\n",
       "mean      0.082997     0.858382     0.058518    -0.061524\n",
       "std       0.121890     0.144465     0.099296     0.364053\n",
       "min       0.000000     0.000000     0.000000    -0.952300\n",
       "25%       0.000000     0.760000     0.000000    -0.318200\n",
       "50%       0.000000     0.872000     0.000000     0.000000\n",
       "75%       0.158000     1.000000     0.105000     0.025800\n",
       "max       0.744000     1.000000     0.778000     0.940300"
      ]
     },
     "execution_count": 25,
     "metadata": {},
     "output_type": "execute_result"
    }
   ],
   "source": [
    "sia = SentimentIntensityAnalyzer()\n",
    "\n",
    "dicts = []\n",
    "\n",
    "for title in df['text']:\n",
    "    scores = sia.polarity_scores(title)\n",
    "    dicts.append(scores)\n",
    "    \n",
    "scores = pd.DataFrame(dicts)\n",
    "scores.describe()"
   ]
  },
  {
   "cell_type": "code",
   "execution_count": 26,
   "metadata": {},
   "outputs": [],
   "source": [
    "sia_df = pd.concat([df, scores], axis = 1)"
   ]
  },
  {
   "cell_type": "code",
   "execution_count": 27,
   "metadata": {},
   "outputs": [
    {
     "data": {
      "text/html": [
       "<div>\n",
       "<style scoped>\n",
       "    .dataframe tbody tr th:only-of-type {\n",
       "        vertical-align: middle;\n",
       "    }\n",
       "\n",
       "    .dataframe tbody tr th {\n",
       "        vertical-align: top;\n",
       "    }\n",
       "\n",
       "    .dataframe thead th {\n",
       "        text-align: right;\n",
       "    }\n",
       "</style>\n",
       "<table border=\"1\" class=\"dataframe\">\n",
       "  <thead>\n",
       "    <tr style=\"text-align: right;\">\n",
       "      <th></th>\n",
       "      <th>label</th>\n",
       "      <th>text</th>\n",
       "      <th>neg</th>\n",
       "      <th>neu</th>\n",
       "      <th>pos</th>\n",
       "      <th>compound</th>\n",
       "    </tr>\n",
       "  </thead>\n",
       "  <tbody>\n",
       "    <tr>\n",
       "      <th>126</th>\n",
       "      <td>true</td>\n",
       "      <td>Lockdown Woes</td>\n",
       "      <td>0.744</td>\n",
       "      <td>0.256</td>\n",
       "      <td>0.0</td>\n",
       "      <td>-0.4404</td>\n",
       "    </tr>\n",
       "    <tr>\n",
       "      <th>2202</th>\n",
       "      <td>true</td>\n",
       "      <td>Every COVID-19 Death Has Devastated a Family</td>\n",
       "      <td>0.664</td>\n",
       "      <td>0.336</td>\n",
       "      <td>0.0</td>\n",
       "      <td>-0.8360</td>\n",
       "    </tr>\n",
       "    <tr>\n",
       "      <th>6743</th>\n",
       "      <td>false</td>\n",
       "      <td>COVID-19 is a hoax or scapegoat for economic ...</td>\n",
       "      <td>0.640</td>\n",
       "      <td>0.360</td>\n",
       "      <td>0.0</td>\n",
       "      <td>-0.8360</td>\n",
       "    </tr>\n",
       "    <tr>\n",
       "      <th>2624</th>\n",
       "      <td>false</td>\n",
       "      <td>Infrared thermometers kill neurons.</td>\n",
       "      <td>0.610</td>\n",
       "      <td>0.390</td>\n",
       "      <td>0.0</td>\n",
       "      <td>-0.6908</td>\n",
       "    </tr>\n",
       "    <tr>\n",
       "      <th>9442</th>\n",
       "      <td>misleading</td>\n",
       "      <td>China killed pigs over fear of coronavirus.</td>\n",
       "      <td>0.606</td>\n",
       "      <td>0.394</td>\n",
       "      <td>0.0</td>\n",
       "      <td>-0.8271</td>\n",
       "    </tr>\n",
       "    <tr>\n",
       "      <th>9257</th>\n",
       "      <td>false</td>\n",
       "      <td>Coronavirus is a biological warfare weapon.</td>\n",
       "      <td>0.595</td>\n",
       "      <td>0.405</td>\n",
       "      <td>0.0</td>\n",
       "      <td>-0.5267</td>\n",
       "    </tr>\n",
       "    <tr>\n",
       "      <th>8986</th>\n",
       "      <td>false</td>\n",
       "      <td>Disinfectant gel causes cancer.</td>\n",
       "      <td>0.595</td>\n",
       "      <td>0.405</td>\n",
       "      <td>0.0</td>\n",
       "      <td>-0.6597</td>\n",
       "    </tr>\n",
       "    <tr>\n",
       "      <th>939</th>\n",
       "      <td>true</td>\n",
       "      <td>Overwhelming Racism of CoronavirusCoverage</td>\n",
       "      <td>0.577</td>\n",
       "      <td>0.423</td>\n",
       "      <td>0.0</td>\n",
       "      <td>-0.6249</td>\n",
       "    </tr>\n",
       "    <tr>\n",
       "      <th>2384</th>\n",
       "      <td>true</td>\n",
       "      <td>Hundreds of violent attacks on NHS ambulance w...</td>\n",
       "      <td>0.577</td>\n",
       "      <td>0.423</td>\n",
       "      <td>0.0</td>\n",
       "      <td>-0.8979</td>\n",
       "    </tr>\n",
       "    <tr>\n",
       "      <th>1991</th>\n",
       "      <td>true</td>\n",
       "      <td>The Other Way Covid Will Kill: Hunger</td>\n",
       "      <td>0.573</td>\n",
       "      <td>0.427</td>\n",
       "      <td>0.0</td>\n",
       "      <td>-0.7717</td>\n",
       "    </tr>\n",
       "  </tbody>\n",
       "</table>\n",
       "</div>"
      ],
      "text/plain": [
       "           label                                               text    neg  \\\n",
       "126         true                                      Lockdown Woes  0.744   \n",
       "2202        true       Every COVID-19 Death Has Devastated a Family  0.664   \n",
       "6743       false   COVID-19 is a hoax or scapegoat for economic ...  0.640   \n",
       "2624       false                Infrared thermometers kill neurons.  0.610   \n",
       "9442  misleading        China killed pigs over fear of coronavirus.  0.606   \n",
       "9257       false        Coronavirus is a biological warfare weapon.  0.595   \n",
       "8986       false                    Disinfectant gel causes cancer.  0.595   \n",
       "939         true         Overwhelming Racism of CoronavirusCoverage  0.577   \n",
       "2384        true  Hundreds of violent attacks on NHS ambulance w...  0.577   \n",
       "1991        true              The Other Way Covid Will Kill: Hunger  0.573   \n",
       "\n",
       "        neu  pos  compound  \n",
       "126   0.256  0.0   -0.4404  \n",
       "2202  0.336  0.0   -0.8360  \n",
       "6743  0.360  0.0   -0.8360  \n",
       "2624  0.390  0.0   -0.6908  \n",
       "9442  0.394  0.0   -0.8271  \n",
       "9257  0.405  0.0   -0.5267  \n",
       "8986  0.405  0.0   -0.6597  \n",
       "939   0.423  0.0   -0.6249  \n",
       "2384  0.423  0.0   -0.8979  \n",
       "1991  0.427  0.0   -0.7717  "
      ]
     },
     "execution_count": 27,
     "metadata": {},
     "output_type": "execute_result"
    }
   ],
   "source": [
    "sia_df.sort_values(by = 'neg', ascending = False).head(10)"
   ]
  },
  {
   "cell_type": "code",
   "execution_count": 28,
   "metadata": {},
   "outputs": [
    {
     "data": {
      "text/html": [
       "<div>\n",
       "<style scoped>\n",
       "    .dataframe tbody tr th:only-of-type {\n",
       "        vertical-align: middle;\n",
       "    }\n",
       "\n",
       "    .dataframe tbody tr th {\n",
       "        vertical-align: top;\n",
       "    }\n",
       "\n",
       "    .dataframe thead th {\n",
       "        text-align: right;\n",
       "    }\n",
       "</style>\n",
       "<table border=\"1\" class=\"dataframe\">\n",
       "  <thead>\n",
       "    <tr style=\"text-align: right;\">\n",
       "      <th></th>\n",
       "      <th>label</th>\n",
       "      <th>text</th>\n",
       "      <th>neg</th>\n",
       "      <th>neu</th>\n",
       "      <th>pos</th>\n",
       "      <th>compound</th>\n",
       "    </tr>\n",
       "  </thead>\n",
       "  <tbody>\n",
       "    <tr>\n",
       "      <th>8922</th>\n",
       "      <td>false</td>\n",
       "      <td>Vitamin C prevents coronavirus.</td>\n",
       "      <td>0.0</td>\n",
       "      <td>0.222</td>\n",
       "      <td>0.778</td>\n",
       "      <td>0.3612</td>\n",
       "    </tr>\n",
       "    <tr>\n",
       "      <th>9062</th>\n",
       "      <td>misleading</td>\n",
       "      <td>Vitamin helps against COVID-19.</td>\n",
       "      <td>0.0</td>\n",
       "      <td>0.294</td>\n",
       "      <td>0.706</td>\n",
       "      <td>0.5859</td>\n",
       "    </tr>\n",
       "    <tr>\n",
       "      <th>1657</th>\n",
       "      <td>true</td>\n",
       "      <td>Protect Your Health with Immune Defence</td>\n",
       "      <td>0.0</td>\n",
       "      <td>0.326</td>\n",
       "      <td>0.674</td>\n",
       "      <td>0.6369</td>\n",
       "    </tr>\n",
       "    <tr>\n",
       "      <th>1216</th>\n",
       "      <td>true</td>\n",
       "      <td>Free Support Groups for Covid-19</td>\n",
       "      <td>0.0</td>\n",
       "      <td>0.333</td>\n",
       "      <td>0.667</td>\n",
       "      <td>0.7184</td>\n",
       "    </tr>\n",
       "    <tr>\n",
       "      <th>8503</th>\n",
       "      <td>misleading</td>\n",
       "      <td>Sex helps prevent coronavirus.</td>\n",
       "      <td>0.0</td>\n",
       "      <td>0.351</td>\n",
       "      <td>0.649</td>\n",
       "      <td>0.4019</td>\n",
       "    </tr>\n",
       "    <tr>\n",
       "      <th>1924</th>\n",
       "      <td>true</td>\n",
       "      <td>Lucky We Didn't Panic | Self-Evident</td>\n",
       "      <td>0.0</td>\n",
       "      <td>0.353</td>\n",
       "      <td>0.647</td>\n",
       "      <td>0.6707</td>\n",
       "    </tr>\n",
       "    <tr>\n",
       "      <th>3921</th>\n",
       "      <td>false</td>\n",
       "      <td>Lacoteferrin prevents and helps prevent coron...</td>\n",
       "      <td>0.0</td>\n",
       "      <td>0.375</td>\n",
       "      <td>0.625</td>\n",
       "      <td>0.4588</td>\n",
       "    </tr>\n",
       "    <tr>\n",
       "      <th>8881</th>\n",
       "      <td>false</td>\n",
       "      <td>Vitamin C is a miracle cure for the novel cor...</td>\n",
       "      <td>0.0</td>\n",
       "      <td>0.376</td>\n",
       "      <td>0.624</td>\n",
       "      <td>0.8074</td>\n",
       "    </tr>\n",
       "    <tr>\n",
       "      <th>5270</th>\n",
       "      <td>false</td>\n",
       "      <td>Alkaline foods help prevent or treat COVID-19.</td>\n",
       "      <td>0.0</td>\n",
       "      <td>0.381</td>\n",
       "      <td>0.619</td>\n",
       "      <td>0.6705</td>\n",
       "    </tr>\n",
       "    <tr>\n",
       "      <th>3793</th>\n",
       "      <td>misleading</td>\n",
       "      <td>Vitamin D helps against the coronavirus.</td>\n",
       "      <td>0.0</td>\n",
       "      <td>0.385</td>\n",
       "      <td>0.615</td>\n",
       "      <td>0.5859</td>\n",
       "    </tr>\n",
       "  </tbody>\n",
       "</table>\n",
       "</div>"
      ],
      "text/plain": [
       "           label                                               text  neg  \\\n",
       "8922       false                    Vitamin C prevents coronavirus.  0.0   \n",
       "9062  misleading                    Vitamin helps against COVID-19.  0.0   \n",
       "1657        true            Protect Your Health with Immune Defence  0.0   \n",
       "1216        true                   Free Support Groups for Covid-19  0.0   \n",
       "8503  misleading                     Sex helps prevent coronavirus.  0.0   \n",
       "1924        true               Lucky We Didn't Panic | Self-Evident  0.0   \n",
       "3921       false   Lacoteferrin prevents and helps prevent coron...  0.0   \n",
       "8881       false   Vitamin C is a miracle cure for the novel cor...  0.0   \n",
       "5270       false     Alkaline foods help prevent or treat COVID-19.  0.0   \n",
       "3793  misleading           Vitamin D helps against the coronavirus.  0.0   \n",
       "\n",
       "        neu    pos  compound  \n",
       "8922  0.222  0.778    0.3612  \n",
       "9062  0.294  0.706    0.5859  \n",
       "1657  0.326  0.674    0.6369  \n",
       "1216  0.333  0.667    0.7184  \n",
       "8503  0.351  0.649    0.4019  \n",
       "1924  0.353  0.647    0.6707  \n",
       "3921  0.375  0.625    0.4588  \n",
       "8881  0.376  0.624    0.8074  \n",
       "5270  0.381  0.619    0.6705  \n",
       "3793  0.385  0.615    0.5859  "
      ]
     },
     "execution_count": 28,
     "metadata": {},
     "output_type": "execute_result"
    }
   ],
   "source": [
    "sia_df.sort_values(by = 'pos', ascending = False).head(10)"
   ]
  },
  {
   "cell_type": "code",
   "execution_count": 29,
   "metadata": {},
   "outputs": [
    {
     "data": {
      "text/html": [
       "<div>\n",
       "<style scoped>\n",
       "    .dataframe tbody tr th:only-of-type {\n",
       "        vertical-align: middle;\n",
       "    }\n",
       "\n",
       "    .dataframe tbody tr th {\n",
       "        vertical-align: top;\n",
       "    }\n",
       "\n",
       "    .dataframe thead th {\n",
       "        text-align: right;\n",
       "    }\n",
       "</style>\n",
       "<table border=\"1\" class=\"dataframe\">\n",
       "  <thead>\n",
       "    <tr style=\"text-align: right;\">\n",
       "      <th></th>\n",
       "      <th>label</th>\n",
       "      <th>text</th>\n",
       "      <th>neg</th>\n",
       "      <th>neu</th>\n",
       "      <th>pos</th>\n",
       "      <th>compound</th>\n",
       "    </tr>\n",
       "  </thead>\n",
       "  <tbody>\n",
       "    <tr>\n",
       "      <th>575</th>\n",
       "      <td>true</td>\n",
       "      <td>Biglaw Firm Spreads The Love With COVID Bonuse...</td>\n",
       "      <td>0.000</td>\n",
       "      <td>0.488</td>\n",
       "      <td>0.512</td>\n",
       "      <td>0.9403</td>\n",
       "    </tr>\n",
       "    <tr>\n",
       "      <th>4560</th>\n",
       "      <td>false</td>\n",
       "      <td>Multiple posts on Facebook, Twitter and on va...</td>\n",
       "      <td>0.000</td>\n",
       "      <td>0.802</td>\n",
       "      <td>0.198</td>\n",
       "      <td>0.9360</td>\n",
       "    </tr>\n",
       "    <tr>\n",
       "      <th>4186</th>\n",
       "      <td>misleading</td>\n",
       "      <td>“A shift in world politics, published a dossi...</td>\n",
       "      <td>0.000</td>\n",
       "      <td>0.739</td>\n",
       "      <td>0.261</td>\n",
       "      <td>0.9245</td>\n",
       "    </tr>\n",
       "    <tr>\n",
       "      <th>7391</th>\n",
       "      <td>misleading</td>\n",
       "      <td>A WhatsApp forward has gone viral which claim...</td>\n",
       "      <td>0.018</td>\n",
       "      <td>0.856</td>\n",
       "      <td>0.126</td>\n",
       "      <td>0.9178</td>\n",
       "    </tr>\n",
       "    <tr>\n",
       "      <th>7486</th>\n",
       "      <td>misleading</td>\n",
       "      <td>A WhatsApp forward claimed that a vaccine for...</td>\n",
       "      <td>0.019</td>\n",
       "      <td>0.848</td>\n",
       "      <td>0.133</td>\n",
       "      <td>0.9178</td>\n",
       "    </tr>\n",
       "    <tr>\n",
       "      <th>5940</th>\n",
       "      <td>false</td>\n",
       "      <td>Post in Lithuanian saying: “I don’t protect. ...</td>\n",
       "      <td>0.000</td>\n",
       "      <td>0.811</td>\n",
       "      <td>0.189</td>\n",
       "      <td>0.9151</td>\n",
       "    </tr>\n",
       "    <tr>\n",
       "      <th>552</th>\n",
       "      <td>true</td>\n",
       "      <td>Located in Westchester + NYC, Mercy College sh...</td>\n",
       "      <td>0.044</td>\n",
       "      <td>0.652</td>\n",
       "      <td>0.304</td>\n",
       "      <td>0.9100</td>\n",
       "    </tr>\n",
       "    <tr>\n",
       "      <th>9602</th>\n",
       "      <td>false</td>\n",
       "      <td>Chlorine dioxide kits sold online under vario...</td>\n",
       "      <td>0.000</td>\n",
       "      <td>0.596</td>\n",
       "      <td>0.404</td>\n",
       "      <td>0.9042</td>\n",
       "    </tr>\n",
       "    <tr>\n",
       "      <th>6538</th>\n",
       "      <td>false</td>\n",
       "      <td>Thousands of Facebook users in the United Sta...</td>\n",
       "      <td>0.000</td>\n",
       "      <td>0.665</td>\n",
       "      <td>0.335</td>\n",
       "      <td>0.9022</td>\n",
       "    </tr>\n",
       "    <tr>\n",
       "      <th>3083</th>\n",
       "      <td>misleading</td>\n",
       "      <td>The image of an intubated baby with a large c...</td>\n",
       "      <td>0.000</td>\n",
       "      <td>0.740</td>\n",
       "      <td>0.260</td>\n",
       "      <td>0.8910</td>\n",
       "    </tr>\n",
       "  </tbody>\n",
       "</table>\n",
       "</div>"
      ],
      "text/plain": [
       "           label                                               text    neg  \\\n",
       "575         true  Biglaw Firm Spreads The Love With COVID Bonuse...  0.000   \n",
       "4560       false   Multiple posts on Facebook, Twitter and on va...  0.000   \n",
       "4186  misleading   “A shift in world politics, published a dossi...  0.000   \n",
       "7391  misleading   A WhatsApp forward has gone viral which claim...  0.018   \n",
       "7486  misleading   A WhatsApp forward claimed that a vaccine for...  0.019   \n",
       "5940       false   Post in Lithuanian saying: “I don’t protect. ...  0.000   \n",
       "552         true  Located in Westchester + NYC, Mercy College sh...  0.044   \n",
       "9602       false   Chlorine dioxide kits sold online under vario...  0.000   \n",
       "6538       false   Thousands of Facebook users in the United Sta...  0.000   \n",
       "3083  misleading   The image of an intubated baby with a large c...  0.000   \n",
       "\n",
       "        neu    pos  compound  \n",
       "575   0.488  0.512    0.9403  \n",
       "4560  0.802  0.198    0.9360  \n",
       "4186  0.739  0.261    0.9245  \n",
       "7391  0.856  0.126    0.9178  \n",
       "7486  0.848  0.133    0.9178  \n",
       "5940  0.811  0.189    0.9151  \n",
       "552   0.652  0.304    0.9100  \n",
       "9602  0.596  0.404    0.9042  \n",
       "6538  0.665  0.335    0.9022  \n",
       "3083  0.740  0.260    0.8910  "
      ]
     },
     "execution_count": 29,
     "metadata": {},
     "output_type": "execute_result"
    }
   ],
   "source": [
    "sia_df.sort_values(by = 'compound', ascending = False).head(10)"
   ]
  },
  {
   "cell_type": "code",
   "execution_count": 30,
   "metadata": {},
   "outputs": [
    {
     "data": {
      "image/png": "[encoded data removed]",
      "text/plain": [
       "<Figure size 432x288 with 1 Axes>"
      ]
     },
     "metadata": {
      "needs_background": "light"
     },
     "output_type": "display_data"
    }
   ],
   "source": [
    "sia_df.groupby('label').mean()[['pos', 'neg']].plot(kind = 'barh', color= ('pink','red'))\n",
    "plt.title('Average Positive and Negative Scores (vader)')\n",
    "plt.legend(loc='lower right')\n",
    "plt.savefig(\"./assets/avg-pos-neg-vader.png\");"
   ]
  },
  {
   "cell_type": "markdown",
   "metadata": {},
   "source": [
    "intereting that words that sia considers to be negative might actually not be as bad when it comes to a global crisis. since using a sia sentiment analyser we negative posts seem to have just a slight leg to being more negative than using a list of our own. \n",
    "true posts seem to a tiny bit more positivity assosiated with them using a sia analyzer"
   ]
  },
  {
   "cell_type": "code",
   "execution_count": 31,
   "metadata": {},
   "outputs": [
    {
     "data": {
      "image/png": "[encoded data removed]",
      "text/plain": [
       "<Figure size 360x360 with 1 Axes>"
      ]
     },
     "metadata": {
      "needs_background": "light"
     },
     "output_type": "display_data"
    }
   ],
   "source": [
    "sns.catplot(x = 'label', y = 'compound', data = sia_df, palette=\"Reds\")\n",
    "plt.title('Catplot of Compound Scores')\n",
    "plt.savefig(\"./assets/compound-catplot.png\");"
   ]
  },
  {
   "cell_type": "markdown",
   "metadata": {},
   "source": [
    "- false informations are all over the spectreum, they seem to have the most emothionally drivine, and at the same time neuteral sounding posts, howeve, there seems to be have an ever so slight lapse in neureality \n",
    "- misleading information,seem to be mostly either possitive, or negative, with a huge dip in neuterality density., \n",
    "- true information, seem to be the most symetric in tone and emotion."
   ]
  },
  {
   "cell_type": "code",
   "execution_count": 32,
   "metadata": {},
   "outputs": [
    {
     "data": {
      "image/png": "[encoded data removed]",
      "text/plain": [
       "<Figure size 820.625x216 with 3 Axes>"
      ]
     },
     "metadata": {
      "needs_background": "light"
     },
     "output_type": "display_data"
    }
   ],
   "source": [
    "g = sns.FacetGrid(sia_df, col = 'label' )\n",
    "g.map(plt.hist, 'compound',  color=\"r\" )\n",
    "g.add_legend(title='Distribution of Compound Scores')\n",
    "plt.savefig(\"./assets/compound-dist.png\");"
   ]
  },
  {
   "cell_type": "markdown",
   "metadata": {},
   "source": [
    "- true informations, are not as polorizing, with the majority of the posts being neuteral in tone. the possitive and negative over all scoress seem to not be as polorizing either, as they seem to fall around the midum (-.5,.5)\n",
    "- in the misleading cathergory, there is a peak at negative tone, and a sharp drop at around neutearl, they seem to have a lot of slightly possitive sounding posts. \n",
    "- althoogh the majority of false information are in the ever so slightly possitive information, they seem to be the mosy polorizing, as almost half of the information seem to be at the negative or possitive ends of the spectrum, with an almost hollow point at the slight negative- neuteral scores."
   ]
  },
  {
   "cell_type": "markdown",
   "metadata": {},
   "source": [
    "### alright, let's move into modeling next"
   ]
  }
 ],
 "metadata": {
  "kernelspec": {
   "display_name": "Python 3",
   "language": "python",
   "name": "python3"
  },
  "language_info": {
   "codemirror_mode": {
    "name": "ipython",
    "version": 3
   },
   "file_extension": ".py",
   "mimetype": "text/x-python",
   "name": "python",
   "nbconvert_exporter": "python",
   "pygments_lexer": "ipython3",
   "version": "3.7.6"
  }
 },
 "nbformat": 4,
 "nbformat_minor": 4
}
