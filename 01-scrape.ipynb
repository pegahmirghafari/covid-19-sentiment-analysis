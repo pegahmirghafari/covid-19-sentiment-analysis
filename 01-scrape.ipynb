{
 "cells": [
  {
   "cell_type": "markdown",
   "metadata": {},
   "source": [
    "## import libraries "
   ]
  },
  {
   "cell_type": "code",
   "execution_count": 1,
   "metadata": {},
   "outputs": [],
   "source": [
    "import re\n",
    "import requests\n",
    "import itertools\n",
    "import numpy as np\n",
    "import pandas as pd\n",
    "import seaborn as sns\n",
    "import matplotlib.pyplot as plt\n",
    "from time import sleep\n",
    "import time\n",
    "from bs4 import BeautifulSoup\n",
    "from datetime import datetime"
   ]
  },
  {
   "cell_type": "markdown",
   "metadata": {},
   "source": [
    "### scraping redddit, and since the information is checked and deleted if wrong I will consider them all as true"
   ]
  },
  {
   "cell_type": "code",
   "execution_count": 2,
   "metadata": {},
   "outputs": [],
   "source": [
    "def scrape_subreddit(subreddit,n):\n",
    "    dataframes = []\n",
    "    today = datetime.now()\n",
    "    now = today.replace(hour=0, minute=0, second=0, microsecond=0)\n",
    "    time = int(now.timestamp())\n",
    "    for num in range(n):\n",
    "        res = requests.get(f'https://api.pushshift.io/reddit/search/submission/?subreddit={subreddit}&size=100&before={time}')\n",
    "        df = pd.DataFrame(res.json()['data'])\n",
    "        dataframes.append(df)\n",
    "        time = res.json()['data'][-1]['created_utc']\n",
    "        sleep(5)\n",
    "        print(f'Scraping {n} batches.')\n",
    "    all_posts = pd.concat(dataframes)\n",
    "    all_posts.to_csv('./data/subreddit.csv', index=False)\n",
    "    return all_posts"
   ]
  },
  {
   "cell_type": "code",
   "execution_count": 3,
   "metadata": {},
   "outputs": [
    {
     "name": "stdout",
     "output_type": "stream",
     "text": [
      "Scraping 25 out of 10 batches.\n",
      "Scraping 25 out of 10 batches.\n",
      "Scraping 25 out of 10 batches.\n",
      "Scraping 25 out of 10 batches.\n",
      "Scraping 25 out of 10 batches.\n",
      "Scraping 25 out of 10 batches.\n",
      "Scraping 25 out of 10 batches.\n",
      "Scraping 25 out of 10 batches.\n",
      "Scraping 25 out of 10 batches.\n",
      "Scraping 25 out of 10 batches.\n",
      "Scraping 25 out of 10 batches.\n",
      "Scraping 25 out of 10 batches.\n",
      "Scraping 25 out of 10 batches.\n",
      "Scraping 25 out of 10 batches.\n",
      "Scraping 25 out of 10 batches.\n",
      "Scraping 25 out of 10 batches.\n",
      "Scraping 25 out of 10 batches.\n",
      "Scraping 25 out of 10 batches.\n",
      "Scraping 25 out of 10 batches.\n",
      "Scraping 25 out of 10 batches.\n",
      "Scraping 25 out of 10 batches.\n",
      "Scraping 25 out of 10 batches.\n",
      "Scraping 25 out of 10 batches.\n",
      "Scraping 25 out of 10 batches.\n",
      "Scraping 25 out of 10 batches.\n"
     ]
    }
   ],
   "source": [
    "coronavirus = scrape_subreddit('coronavirus', 25)"
   ]
  },
  {
   "cell_type": "code",
   "execution_count": 4,
   "metadata": {},
   "outputs": [
    {
     "data": {
      "text/plain": [
       "(2500, 78)"
      ]
     },
     "execution_count": 4,
     "metadata": {},
     "output_type": "execute_result"
    }
   ],
   "source": [
    "coronavirus.shape"
   ]
  },
  {
   "cell_type": "markdown",
   "metadata": {},
   "source": [
    "dropping every column, except for title, since I do not need anything else."
   ]
  },
  {
   "cell_type": "code",
   "execution_count": 5,
   "metadata": {},
   "outputs": [],
   "source": [
    "coronavirus_df = coronavirus['title']\n",
    "coronavirus_df = pd.DataFrame(coronavirus_df)"
   ]
  },
  {
   "cell_type": "code",
   "execution_count": 6,
   "metadata": {},
   "outputs": [
    {
     "data": {
      "text/html": [
       "<div>\n",
       "<style scoped>\n",
       "    .dataframe tbody tr th:only-of-type {\n",
       "        vertical-align: middle;\n",
       "    }\n",
       "\n",
       "    .dataframe tbody tr th {\n",
       "        vertical-align: top;\n",
       "    }\n",
       "\n",
       "    .dataframe thead th {\n",
       "        text-align: right;\n",
       "    }\n",
       "</style>\n",
       "<table border=\"1\" class=\"dataframe\">\n",
       "  <thead>\n",
       "    <tr style=\"text-align: right;\">\n",
       "      <th></th>\n",
       "      <th>title</th>\n",
       "    </tr>\n",
       "  </thead>\n",
       "  <tbody>\n",
       "    <tr>\n",
       "      <th>0</th>\n",
       "      <td>US coronavirus vaccine trial on hold after UK ...</td>\n",
       "    </tr>\n",
       "    <tr>\n",
       "      <th>1</th>\n",
       "      <td>Penn State Reports 320 Cases Of Coronavirus On...</td>\n",
       "    </tr>\n",
       "    <tr>\n",
       "      <th>2</th>\n",
       "      <td>Chinese mainland reports 10 new COVID-19 cases...</td>\n",
       "    </tr>\n",
       "    <tr>\n",
       "      <th>3</th>\n",
       "      <td>Mask resistance during a pandemic isn't new – ...</td>\n",
       "    </tr>\n",
       "    <tr>\n",
       "      <th>4</th>\n",
       "      <td>U.S. adults experienced increased mental healt...</td>\n",
       "    </tr>\n",
       "    <tr>\n",
       "      <th>...</th>\n",
       "      <td>...</td>\n",
       "    </tr>\n",
       "    <tr>\n",
       "      <th>95</th>\n",
       "      <td>Niños y coronavirus: por qué una alta carga vi...</td>\n",
       "    </tr>\n",
       "    <tr>\n",
       "      <th>96</th>\n",
       "      <td>Coronavirus may dice heart muscle fibers into ...</td>\n",
       "    </tr>\n",
       "    <tr>\n",
       "      <th>97</th>\n",
       "      <td>Some will never learn and still go out before ...</td>\n",
       "    </tr>\n",
       "    <tr>\n",
       "      <th>98</th>\n",
       "      <td>Some people will never learn and still go out ...</td>\n",
       "    </tr>\n",
       "    <tr>\n",
       "      <th>99</th>\n",
       "      <td>University of Oxford resumes vaccine trial</td>\n",
       "    </tr>\n",
       "  </tbody>\n",
       "</table>\n",
       "<p>2500 rows × 1 columns</p>\n",
       "</div>"
      ],
      "text/plain": [
       "                                                title\n",
       "0   US coronavirus vaccine trial on hold after UK ...\n",
       "1   Penn State Reports 320 Cases Of Coronavirus On...\n",
       "2   Chinese mainland reports 10 new COVID-19 cases...\n",
       "3   Mask resistance during a pandemic isn't new – ...\n",
       "4   U.S. adults experienced increased mental healt...\n",
       "..                                                ...\n",
       "95  Niños y coronavirus: por qué una alta carga vi...\n",
       "96  Coronavirus may dice heart muscle fibers into ...\n",
       "97  Some will never learn and still go out before ...\n",
       "98  Some people will never learn and still go out ...\n",
       "99         University of Oxford resumes vaccine trial\n",
       "\n",
       "[2500 rows x 1 columns]"
      ]
     },
     "execution_count": 6,
     "metadata": {},
     "output_type": "execute_result"
    }
   ],
   "source": [
    "coronavirus_df"
   ]
  },
  {
   "cell_type": "markdown",
   "metadata": {},
   "source": [
    "as mentioned before, assuming all information on reddit is true"
   ]
  },
  {
   "cell_type": "code",
   "execution_count": 7,
   "metadata": {},
   "outputs": [],
   "source": [
    "coronavirus_df['label'] = 'true'\n",
    "coronavirus_df.rename(columns = {'title':'text'}, inplace=True)\n",
    "coronavirus_df.to_csv('./data/coronavirus_subreddit.csv')"
   ]
  },
  {
   "cell_type": "markdown",
   "metadata": {},
   "source": [
    "### importing and merging a  datat set from  [Kaggle](https://www.kaggle.com/ambityga/covid19misinformation) User Ambesh Shekhar, who had flase and misleading information gathered from ponyter with my reddits"
   ]
  },
  {
   "cell_type": "code",
   "execution_count": 8,
   "metadata": {},
   "outputs": [
    {
     "data": {
      "text/html": [
       "<div>\n",
       "<style scoped>\n",
       "    .dataframe tbody tr th:only-of-type {\n",
       "        vertical-align: middle;\n",
       "    }\n",
       "\n",
       "    .dataframe tbody tr th {\n",
       "        vertical-align: top;\n",
       "    }\n",
       "\n",
       "    .dataframe thead th {\n",
       "        text-align: right;\n",
       "    }\n",
       "</style>\n",
       "<table border=\"1\" class=\"dataframe\">\n",
       "  <thead>\n",
       "    <tr style=\"text-align: right;\">\n",
       "      <th></th>\n",
       "      <th>label</th>\n",
       "      <th>text</th>\n",
       "    </tr>\n",
       "  </thead>\n",
       "  <tbody>\n",
       "    <tr>\n",
       "      <th>0</th>\n",
       "      <td>misleading</td>\n",
       "      <td>A post that has a list of recommendations to ...</td>\n",
       "    </tr>\n",
       "    <tr>\n",
       "      <th>1</th>\n",
       "      <td>false</td>\n",
       "      <td>The first person to received a Chinese COVID-...</td>\n",
       "    </tr>\n",
       "    <tr>\n",
       "      <th>2</th>\n",
       "      <td>false</td>\n",
       "      <td>A video from family doctor Natalia Prego Canc...</td>\n",
       "    </tr>\n",
       "    <tr>\n",
       "      <th>3</th>\n",
       "      <td>false</td>\n",
       "      <td>RNA-based COVID-19 vaccines can turn humans i...</td>\n",
       "    </tr>\n",
       "    <tr>\n",
       "      <th>4</th>\n",
       "      <td>false</td>\n",
       "      <td>A post that shows a doctor from Santiago del ...</td>\n",
       "    </tr>\n",
       "    <tr>\n",
       "      <th>...</th>\n",
       "      <td>...</td>\n",
       "      <td>...</td>\n",
       "    </tr>\n",
       "    <tr>\n",
       "      <th>7539</th>\n",
       "      <td>false</td>\n",
       "      <td>The coronavirus was created in a lab and pate...</td>\n",
       "    </tr>\n",
       "    <tr>\n",
       "      <th>7540</th>\n",
       "      <td>misleading</td>\n",
       "      <td>A Chinese market caused the new coronavirus (...</td>\n",
       "    </tr>\n",
       "    <tr>\n",
       "      <th>7541</th>\n",
       "      <td>misleading</td>\n",
       "      <td>The peak of the new coronavirus will happen i...</td>\n",
       "    </tr>\n",
       "    <tr>\n",
       "      <th>7542</th>\n",
       "      <td>false</td>\n",
       "      <td>Stores and supermarkets in Veracruz (Mexico) ...</td>\n",
       "    </tr>\n",
       "    <tr>\n",
       "      <th>7543</th>\n",
       "      <td>false</td>\n",
       "      <td>A chain message circulated on Tuesday, Jan. 1...</td>\n",
       "    </tr>\n",
       "  </tbody>\n",
       "</table>\n",
       "<p>7544 rows × 2 columns</p>\n",
       "</div>"
      ],
      "text/plain": [
       "           label                                               text\n",
       "0     misleading   A post that has a list of recommendations to ...\n",
       "1          false   The first person to received a Chinese COVID-...\n",
       "2          false   A video from family doctor Natalia Prego Canc...\n",
       "3          false   RNA-based COVID-19 vaccines can turn humans i...\n",
       "4          false   A post that shows a doctor from Santiago del ...\n",
       "...          ...                                                ...\n",
       "7539       false   The coronavirus was created in a lab and pate...\n",
       "7540  misleading   A Chinese market caused the new coronavirus (...\n",
       "7541  misleading   The peak of the new coronavirus will happen i...\n",
       "7542       false   Stores and supermarkets in Veracruz (Mexico) ...\n",
       "7543       false   A chain message circulated on Tuesday, Jan. 1...\n",
       "\n",
       "[7544 rows x 2 columns]"
      ]
     },
     "execution_count": 8,
     "metadata": {},
     "output_type": "execute_result"
    }
   ],
   "source": [
    "poynter = pd.read_csv('./data/poynter_data.csv')\n",
    "poynter"
   ]
  },
  {
   "cell_type": "code",
   "execution_count": 9,
   "metadata": {},
   "outputs": [],
   "source": [
    "coronavirus_df.reset_index(inplace=True)\n",
    "coronavirus_df = coronavirus_df[['label', 'text']]"
   ]
  },
  {
   "cell_type": "code",
   "execution_count": 10,
   "metadata": {},
   "outputs": [],
   "source": [
    "df = pd.concat([coronavirus_df, poynter ])\n",
    "\n",
    "#Formatting dataframe\n",
    "df.reset_index(inplace=True)\n",
    "df.drop(columns='index', inplace=True)\n",
    "df.drop_duplicates(keep = 'first', inplace=True) \n",
    "df.to_csv('./data/combined_data.csv', index=False)"
   ]
  },
  {
   "cell_type": "code",
   "execution_count": 11,
   "metadata": {},
   "outputs": [
    {
     "data": {
      "text/html": [
       "<div>\n",
       "<style scoped>\n",
       "    .dataframe tbody tr th:only-of-type {\n",
       "        vertical-align: middle;\n",
       "    }\n",
       "\n",
       "    .dataframe tbody tr th {\n",
       "        vertical-align: top;\n",
       "    }\n",
       "\n",
       "    .dataframe thead th {\n",
       "        text-align: right;\n",
       "    }\n",
       "</style>\n",
       "<table border=\"1\" class=\"dataframe\">\n",
       "  <thead>\n",
       "    <tr style=\"text-align: right;\">\n",
       "      <th></th>\n",
       "      <th>label</th>\n",
       "      <th>text</th>\n",
       "    </tr>\n",
       "  </thead>\n",
       "  <tbody>\n",
       "    <tr>\n",
       "      <th>0</th>\n",
       "      <td>true</td>\n",
       "      <td>US coronavirus vaccine trial on hold after UK ...</td>\n",
       "    </tr>\n",
       "    <tr>\n",
       "      <th>1</th>\n",
       "      <td>true</td>\n",
       "      <td>Penn State Reports 320 Cases Of Coronavirus On...</td>\n",
       "    </tr>\n",
       "    <tr>\n",
       "      <th>2</th>\n",
       "      <td>true</td>\n",
       "      <td>Chinese mainland reports 10 new COVID-19 cases...</td>\n",
       "    </tr>\n",
       "    <tr>\n",
       "      <th>3</th>\n",
       "      <td>true</td>\n",
       "      <td>Mask resistance during a pandemic isn't new – ...</td>\n",
       "    </tr>\n",
       "    <tr>\n",
       "      <th>4</th>\n",
       "      <td>true</td>\n",
       "      <td>U.S. adults experienced increased mental healt...</td>\n",
       "    </tr>\n",
       "  </tbody>\n",
       "</table>\n",
       "</div>"
      ],
      "text/plain": [
       "  label                                               text\n",
       "0  true  US coronavirus vaccine trial on hold after UK ...\n",
       "1  true  Penn State Reports 320 Cases Of Coronavirus On...\n",
       "2  true  Chinese mainland reports 10 new COVID-19 cases...\n",
       "3  true  Mask resistance during a pandemic isn't new – ...\n",
       "4  true  U.S. adults experienced increased mental healt..."
      ]
     },
     "execution_count": 11,
     "metadata": {},
     "output_type": "execute_result"
    }
   ],
   "source": [
    "df.head()"
   ]
  },
  {
   "cell_type": "markdown",
   "metadata": {},
   "source": [
    "### adding information from WHO as well"
   ]
  },
  {
   "cell_type": "code",
   "execution_count": 12,
   "metadata": {},
   "outputs": [],
   "source": [
    "url = 'https://www.who.int/emergencies/diseases/novel-coronavirus-2019/advice-for-public/myth-busters'\n",
    "res = requests.get(url)\n",
    "soup = BeautifulSoup(res.content, 'lxml')\n",
    "h2s =soup.find_all('h2')\n",
    "\n",
    "trues = []\n",
    "for each in h2s[1:]:\n",
    "    li_true = each.text[6:]\n",
    "    trues.append(li_true)\n",
    "    \n",
    "who_data = pd.DataFrame({'label': 'true','text':[values for values in trues]})\n",
    "combined_with_who = pd.concat([df, who_data],ignore_index=True)\n",
    "combined_with_who.to_csv('./data/combined_with_who.csv', index = False)"
   ]
  },
  {
   "cell_type": "code",
   "execution_count": 13,
   "metadata": {},
   "outputs": [
    {
     "data": {
      "text/html": [
       "<div>\n",
       "<style scoped>\n",
       "    .dataframe tbody tr th:only-of-type {\n",
       "        vertical-align: middle;\n",
       "    }\n",
       "\n",
       "    .dataframe tbody tr th {\n",
       "        vertical-align: top;\n",
       "    }\n",
       "\n",
       "    .dataframe thead th {\n",
       "        text-align: right;\n",
       "    }\n",
       "</style>\n",
       "<table border=\"1\" class=\"dataframe\">\n",
       "  <thead>\n",
       "    <tr style=\"text-align: right;\">\n",
       "      <th></th>\n",
       "      <th>label</th>\n",
       "      <th>text</th>\n",
       "    </tr>\n",
       "  </thead>\n",
       "  <tbody>\n",
       "    <tr>\n",
       "      <th>0</th>\n",
       "      <td>true</td>\n",
       "      <td>US coronavirus vaccine trial on hold after UK ...</td>\n",
       "    </tr>\n",
       "    <tr>\n",
       "      <th>1</th>\n",
       "      <td>true</td>\n",
       "      <td>Penn State Reports 320 Cases Of Coronavirus On...</td>\n",
       "    </tr>\n",
       "    <tr>\n",
       "      <th>2</th>\n",
       "      <td>true</td>\n",
       "      <td>Chinese mainland reports 10 new COVID-19 cases...</td>\n",
       "    </tr>\n",
       "    <tr>\n",
       "      <th>3</th>\n",
       "      <td>true</td>\n",
       "      <td>Mask resistance during a pandemic isn't new – ...</td>\n",
       "    </tr>\n",
       "    <tr>\n",
       "      <th>4</th>\n",
       "      <td>true</td>\n",
       "      <td>U.S. adults experienced increased mental healt...</td>\n",
       "    </tr>\n",
       "    <tr>\n",
       "      <th>...</th>\n",
       "      <td>...</td>\n",
       "      <td>...</td>\n",
       "    </tr>\n",
       "    <tr>\n",
       "      <th>9969</th>\n",
       "      <td>true</td>\n",
       "      <td>Rinsing your nose with saline does NOT prevent...</td>\n",
       "    </tr>\n",
       "    <tr>\n",
       "      <th>9970</th>\n",
       "      <td>true</td>\n",
       "      <td>Eating garlic does NOT prevent COVID-19</td>\n",
       "    </tr>\n",
       "    <tr>\n",
       "      <th>9971</th>\n",
       "      <td>true</td>\n",
       "      <td>People of all ages can be infected by the COVI...</td>\n",
       "    </tr>\n",
       "    <tr>\n",
       "      <th>9972</th>\n",
       "      <td>true</td>\n",
       "      <td>Antibiotics CANNOT prevent or treat COVID-19</td>\n",
       "    </tr>\n",
       "    <tr>\n",
       "      <th>9973</th>\n",
       "      <td>true</td>\n",
       "      <td>There are no medicines that can prevent or tre...</td>\n",
       "    </tr>\n",
       "  </tbody>\n",
       "</table>\n",
       "<p>9974 rows × 2 columns</p>\n",
       "</div>"
      ],
      "text/plain": [
       "     label                                               text\n",
       "0     true  US coronavirus vaccine trial on hold after UK ...\n",
       "1     true  Penn State Reports 320 Cases Of Coronavirus On...\n",
       "2     true  Chinese mainland reports 10 new COVID-19 cases...\n",
       "3     true  Mask resistance during a pandemic isn't new – ...\n",
       "4     true  U.S. adults experienced increased mental healt...\n",
       "...    ...                                                ...\n",
       "9969  true  Rinsing your nose with saline does NOT prevent...\n",
       "9970  true            Eating garlic does NOT prevent COVID-19\n",
       "9971  true  People of all ages can be infected by the COVI...\n",
       "9972  true       Antibiotics CANNOT prevent or treat COVID-19\n",
       "9973  true  There are no medicines that can prevent or tre...\n",
       "\n",
       "[9974 rows x 2 columns]"
      ]
     },
     "execution_count": 13,
     "metadata": {},
     "output_type": "execute_result"
    }
   ],
   "source": [
    "combined_with_who"
   ]
  },
  {
   "cell_type": "code",
   "execution_count": 14,
   "metadata": {},
   "outputs": [
    {
     "data": {
      "text/plain": [
       "false         6315\n",
       "true          2500\n",
       "misleading    1159\n",
       "Name: label, dtype: int64"
      ]
     },
     "execution_count": 14,
     "metadata": {},
     "output_type": "execute_result"
    }
   ],
   "source": [
    "combined_with_who['label'].value_counts()"
   ]
  },
  {
   "cell_type": "markdown",
   "metadata": {},
   "source": [
    "Alright, this is all of my data, and the missleading vs true, and false information"
   ]
  }
 ],
 "metadata": {
  "kernelspec": {
   "display_name": "Python 3",
   "language": "python",
   "name": "python3"
  },
  "language_info": {
   "codemirror_mode": {
    "name": "ipython",
    "version": 3
   },
   "file_extension": ".py",
   "mimetype": "text/x-python",
   "name": "python",
   "nbconvert_exporter": "python",
   "pygments_lexer": "ipython3",
   "version": "3.7.6"
  }
 },
 "nbformat": 4,
 "nbformat_minor": 4
}
