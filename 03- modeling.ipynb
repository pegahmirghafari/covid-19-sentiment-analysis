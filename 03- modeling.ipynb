{
 "cells": [
  {
   "cell_type": "markdown",
   "metadata": {},
   "source": [
    "### imports"
   ]
  },
  {
   "cell_type": "code",
   "execution_count": 1,
   "metadata": {},
   "outputs": [],
   "source": [
    "import itertools\n",
    "import pickle\n",
    "import numpy as np\n",
    "import pandas as pd\n",
    "import seaborn as sns\n",
    "import matplotlib.pyplot as plt\n",
    "\n",
    "from sklearn import metrics\n",
    "from sklearn.metrics import confusion_matrix, plot_confusion_matrix\n",
    "from sklearn.pipeline import Pipeline\n",
    "from sklearn.ensemble import RandomForestClassifier\n",
    "from sklearn.naive_bayes import MultinomialNB\n",
    "from sklearn.linear_model import LogisticRegressionCV\n",
    "from sklearn.model_selection import train_test_split, GridSearchCV\n",
    "from sklearn.feature_extraction.text import CountVectorizer, TfidfVectorizer"
   ]
  },
  {
   "cell_type": "code",
   "execution_count": 2,
   "metadata": {},
   "outputs": [],
   "source": [
    "df = pd.read_csv(\"./data/combined_with_who.csv\")"
   ]
  },
  {
   "cell_type": "code",
   "execution_count": 3,
   "metadata": {},
   "outputs": [],
   "source": [
    "def plot_confusion_matrix(cm, classes,\n",
    "                          normalize=False,\n",
    "                          title='Confusion matrix',\n",
    "                          cmap=plt.cm.Reds):\n",
    "    plt.imshow(cm, interpolation='nearest', cmap=cmap)\n",
    "    plt.title(title)\n",
    "    plt.colorbar()\n",
    "    tick_marks = np.arange(len(classes))\n",
    "    plt.xticks(tick_marks, classes, rotation=45)\n",
    "    plt.yticks(tick_marks, classes)\n",
    "    if normalize:\n",
    "        cm = cm.astype('float') / cm.sum(axis=1)[:, np.newaxis]\n",
    "        print(\"Normalized confusion matrix\")\n",
    "    else:\n",
    "        print('Confusion matrix, without normalization')\n",
    "\n",
    "    thresh = cm.max() / 2.\n",
    "    for i, j in itertools.product(range(cm.shape[0]), range(cm.shape[1])):\n",
    "        plt.text(j, i, cm[i, j],\n",
    "                 horizontalalignment=\"center\",\n",
    "                 color=\"pink\" if cm[i, j] > thresh else \"red\")\n",
    "\n",
    "    plt.tight_layout()\n",
    "    plt.ylabel('True label')\n",
    "    plt.xlabel('Predicted label')"
   ]
  },
  {
   "cell_type": "code",
   "execution_count": 4,
   "metadata": {},
   "outputs": [],
   "source": [
    "X= df['text']\n",
    "y= df['label'].map(lambda x: 1 if x== 'true' else 0 )\n",
    "X_train, X_test, y_train, y_test = train_test_split(X, y, random_state= 42)"
   ]
  },
  {
   "cell_type": "code",
   "execution_count": 5,
   "metadata": {},
   "outputs": [],
   "source": [
    "models = [\n",
    "    {\n",
    "    'name': 'Multinomial Naive Bayes',\n",
    "    'label' : 'mnnb',\n",
    "    'model': MultinomialNB(),\n",
    "    'params': {\n",
    "            'mnnb__alpha' : [1, 1e-1, 1e-2, 10]\n",
    "            }\n",
    "    },\n",
    "    {\n",
    "    'name': 'Random Forest',\n",
    "    'label' : 'rfc',\n",
    "    'model': RandomForestClassifier(),\n",
    "    'params': {\n",
    "        'rfc__bootstrap' :  [True],\n",
    "        'rfc__max_depth' : [50],\n",
    "        'rfc__min_samples_split' : [ 5, 10],\n",
    "        'rfc__min_samples_leaf' : [ 2, 4],\n",
    "        }\n",
    "    },\n",
    "    {\n",
    "    'name': 'Logistic Regression CV',\n",
    "    'label' : 'lrcv',\n",
    "    'model': LogisticRegressionCV(),\n",
    "    'params':  {\n",
    "        'lrcv__penalty': ['l1', 'l2'],\n",
    "        'lrcv__solver': ['liblinear']\n",
    "        }\n",
    "    }\n",
    "]\n",
    "\n",
    "transformers = [\n",
    "    {'name': 'Count Vectorizer',\n",
    "    'label' : 'cvec',\n",
    "    'transformer': CountVectorizer(),\n",
    "    'params': {\n",
    "        'cvec__stop_words' : [None],\n",
    "        'cvec__max_features' : [2500, 5000],\n",
    "        'cvec__min_df' : [2, 3],\n",
    "        'cvec__max_df' : [.8, .9],\n",
    "        'cvec__ngram_range' : [(1,1), (1,2)],\n",
    "        }\n",
    "    },\n",
    "    {'name': 'TF-IDF Vectorizer',\n",
    "    'label' : 'tvec',\n",
    "    'transformer': TfidfVectorizer(),\n",
    "    'params': {\n",
    "        'tvec__stop_words' : [None],              \n",
    "        'tvec__max_features' : [2500, 5000],\n",
    "        'tvec__ngram_range' : [(1, 1), (1, 2)],  \n",
    "        }    \n",
    "    }\n",
    "]\n",
    "\n",
    "pipes = []\n",
    "\n",
    "for model in models:\n",
    "    for transformer in transformers:\n",
    "        pipe = Pipeline([\n",
    "            (transformer['label'], transformer['transformer']),\n",
    "            (model['label'], model['model']),            \n",
    "        ])\n",
    "\n",
    "        pipe_dict = {\n",
    "            'name' : transformer['name'] + ' and ' + model['name'],\n",
    "            'pipe' : pipe,\n",
    "        }\n",
    "        pipe_dict['params'] = {**transformer['params'], **model['params']}\n",
    "        pipes.append(pipe_dict)"
   ]
  },
  {
   "cell_type": "code",
   "execution_count": 18,
   "metadata": {},
   "outputs": [
    {
     "name": "stdout",
     "output_type": "stream",
     "text": [
      "Search 1 of 6, Count Vectorizer and Multinomial Naive Bayes\n",
      "Fitting 5 folds for each of 128 candidates, totalling 640 fits\n"
     ]
    },
    {
     "name": "stderr",
     "output_type": "stream",
     "text": [
      "[Parallel(n_jobs=1)]: Using backend SequentialBackend with 1 concurrent workers.\n",
      "[Parallel(n_jobs=1)]: Done 640 out of 640 | elapsed:  4.0min finished\n"
     ]
    },
    {
     "name": "stdout",
     "output_type": "stream",
     "text": [
      "Search # 1 of 6 complete. \n",
      " Training Score: 0.9407754010695187, Testing Score: 0.909382518043304\n",
      "Search 2 of 6, TF-IDF Vectorizer and Multinomial Naive Bayes\n",
      "Fitting 5 folds for each of 32 candidates, totalling 160 fits\n"
     ]
    },
    {
     "name": "stderr",
     "output_type": "stream",
     "text": [
      "[Parallel(n_jobs=1)]: Using backend SequentialBackend with 1 concurrent workers.\n",
      "[Parallel(n_jobs=1)]: Done 160 out of 160 | elapsed:   55.1s finished\n"
     ]
    },
    {
     "name": "stdout",
     "output_type": "stream",
     "text": [
      "Search # 2 of 6 complete. \n",
      " Training Score: 0.9407754010695187, Testing Score: 0.8917401764234162\n",
      "Search 3 of 6, Count Vectorizer and Random Forest\n",
      "Fitting 5 folds for each of 128 candidates, totalling 640 fits\n"
     ]
    },
    {
     "name": "stderr",
     "output_type": "stream",
     "text": [
      "[Parallel(n_jobs=1)]: Using backend SequentialBackend with 1 concurrent workers.\n",
      "[Parallel(n_jobs=1)]: Done 640 out of 640 | elapsed: 17.8min finished\n"
     ]
    },
    {
     "name": "stdout",
     "output_type": "stream",
     "text": [
      "Search # 3 of 6 complete. \n",
      " Training Score: 0.883288770053476, Testing Score: 0.8496391339214114\n",
      "Search 4 of 6, TF-IDF Vectorizer and Random Forest\n",
      "Fitting 5 folds for each of 32 candidates, totalling 160 fits\n"
     ]
    },
    {
     "name": "stderr",
     "output_type": "stream",
     "text": [
      "[Parallel(n_jobs=1)]: Using backend SequentialBackend with 1 concurrent workers.\n",
      "[Parallel(n_jobs=1)]: Done 160 out of 160 | elapsed:  4.1min finished\n"
     ]
    },
    {
     "name": "stdout",
     "output_type": "stream",
     "text": [
      "Search # 4 of 6 complete. \n",
      " Training Score: 0.906283422459893, Testing Score: 0.8524458700882117\n",
      "Search 5 of 6, Count Vectorizer and Logistic Regression CV\n",
      "Fitting 5 folds for each of 64 candidates, totalling 320 fits\n"
     ]
    },
    {
     "name": "stderr",
     "output_type": "stream",
     "text": [
      "[Parallel(n_jobs=1)]: Using backend SequentialBackend with 1 concurrent workers.\n",
      "[Parallel(n_jobs=1)]: Done 320 out of 320 | elapsed: 15.7min finished\n"
     ]
    },
    {
     "name": "stdout",
     "output_type": "stream",
     "text": [
      "Search # 5 of 6 complete. \n",
      " Training Score: 0.9901069518716578, Testing Score: 0.9149959903769046\n",
      "Search 6 of 6, TF-IDF Vectorizer and Logistic Regression CV\n",
      "Fitting 5 folds for each of 16 candidates, totalling 80 fits\n"
     ]
    },
    {
     "name": "stderr",
     "output_type": "stream",
     "text": [
      "[Parallel(n_jobs=1)]: Using backend SequentialBackend with 1 concurrent workers.\n",
      "[Parallel(n_jobs=1)]: Done  80 out of  80 | elapsed:  3.2min finished\n"
     ]
    },
    {
     "name": "stdout",
     "output_type": "stream",
     "text": [
      "Search # 6 of 6 complete. \n",
      " Training Score: 0.993716577540107, Testing Score: 0.9133921411387329\n"
     ]
    }
   ],
   "source": [
    "searches = [{'name': 'Baseline', \n",
    "             'gs' : 'NA',\n",
    "             'train_score': y.value_counts(normalize = True)[0],\n",
    "             'test_score': y.value_counts(normalize = True)[0]}]\n",
    "searchn = 1\n",
    "for pipe in pipes:\n",
    "    gs = GridSearchCV(pipe['pipe'], pipe['params'], verbose = 1, n_jobs = 1)\n",
    "    nsearches = len(pipes)\n",
    "    print(f\"Search {searchn} of {nsearches}, {pipe['name']}\")\n",
    "    gs.fit(X_train, y_train)\n",
    "    gs_dict = {'name' : pipe['name'],\n",
    "                'gs': gs,\n",
    "                'train_score': gs.score(X_train, y_train),\n",
    "                'test_score': gs.score(X_test, y_test)}\n",
    "    searches.append(gs_dict)\n",
    "    \n",
    "    #pickles \n",
    "    file_name = 'pfiles/'+ pipe['name'].replace(' ', '_') + '.p'\n",
    "    pickle.dump(gs, open(file_name, 'wb'))\n",
    "    \n",
    "    \n",
    "    print(f\"Search # {searchn} of {nsearches} complete. \\n Training Score: {gs_dict['train_score']}, Testing Score: {gs_dict['test_score']}\")\n",
    "    searchn += 1"
   ]
  },
  {
   "cell_type": "code",
   "execution_count": 19,
   "metadata": {},
   "outputs": [
    {
     "name": "stdout",
     "output_type": "stream",
     "text": [
      "Baseline: \n",
      " Train Score: 0.7493483055945458 \n",
      " Test Score: 0.7493483055945458\n",
      "Baseline- Predicting 100% of the dominant class\n",
      "\n",
      "Count Vectorizer and Multinomial Naive Bayes: \n",
      " Train Score: 0.9407754010695187 \n",
      " Test Score: 0.909382518043304\n",
      "{'cvec__max_df': 0.8, 'cvec__max_features': 5000, 'cvec__min_df': 2, 'cvec__ngram_range': (1, 1), 'cvec__stop_words': None, 'mnnb__alpha': 1}\n",
      "\n",
      "TF-IDF Vectorizer and Multinomial Naive Bayes: \n",
      " Train Score: 0.9407754010695187 \n",
      " Test Score: 0.8917401764234162\n",
      "{'mnnb__alpha': 0.1, 'tvec__max_features': 5000, 'tvec__ngram_range': (1, 2), 'tvec__stop_words': None}\n",
      "\n",
      "Count Vectorizer and Random Forest: \n",
      " Train Score: 0.883288770053476 \n",
      " Test Score: 0.8496391339214114\n",
      "{'cvec__max_df': 0.9, 'cvec__max_features': 2500, 'cvec__min_df': 2, 'cvec__ngram_range': (1, 2), 'cvec__stop_words': None, 'rfc__bootstrap': True, 'rfc__max_depth': 50, 'rfc__min_samples_leaf': 2, 'rfc__min_samples_split': 5}\n",
      "\n",
      "TF-IDF Vectorizer and Random Forest: \n",
      " Train Score: 0.906283422459893 \n",
      " Test Score: 0.8524458700882117\n",
      "{'rfc__bootstrap': True, 'rfc__max_depth': 50, 'rfc__min_samples_leaf': 2, 'rfc__min_samples_split': 10, 'tvec__max_features': 2500, 'tvec__ngram_range': (1, 2), 'tvec__stop_words': None}\n",
      "\n",
      "Count Vectorizer and Logistic Regression CV: \n",
      " Train Score: 0.9901069518716578 \n",
      " Test Score: 0.9149959903769046\n",
      "{'cvec__max_df': 0.8, 'cvec__max_features': 5000, 'cvec__min_df': 2, 'cvec__ngram_range': (1, 1), 'cvec__stop_words': None, 'lrcv__penalty': 'l2', 'lrcv__solver': 'liblinear'}\n",
      "\n",
      "TF-IDF Vectorizer and Logistic Regression CV: \n",
      " Train Score: 0.993716577540107 \n",
      " Test Score: 0.9133921411387329\n",
      "{'lrcv__penalty': 'l2', 'lrcv__solver': 'liblinear', 'tvec__max_features': 5000, 'tvec__ngram_range': (1, 1), 'tvec__stop_words': None}\n",
      "\n"
     ]
    }
   ],
   "source": [
    "for search in searches:\n",
    "    print(f\"{search['name']}: \\n Train Score: {search['train_score']} \\n Test Score: {search['test_score']}\")\n",
    "    if search['gs'] == 'NA':\n",
    "        print('Baseline- Predicting 100% of the dominant class')\n",
    "        print()\n",
    "    else:\n",
    "        print(search['gs'].best_params_)\n",
    "        print()"
   ]
  },
  {
   "cell_type": "markdown",
   "metadata": {},
   "source": [
    "## next we'll create an API via Flask "
   ]
  }
 ],
 "metadata": {
  "kernelspec": {
   "display_name": "Python 3",
   "language": "python",
   "name": "python3"
  },
  "language_info": {
   "codemirror_mode": {
    "name": "ipython",
    "version": 3
   },
   "file_extension": ".py",
   "mimetype": "text/x-python",
   "name": "python",
   "nbconvert_exporter": "python",
   "pygments_lexer": "ipython3",
   "version": "3.7.6"
  }
 },
 "nbformat": 4,
 "nbformat_minor": 4
}
